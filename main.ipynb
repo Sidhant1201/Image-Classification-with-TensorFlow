{
 "cells": [
  {
   "cell_type": "code",
   "execution_count": 2,
   "metadata": {},
   "outputs": [],
   "source": [
    "import numpy as np\n",
    "import pandas as pd\n",
    "from sklearn.model_selection import train_test_split"
   ]
  },
  {
   "cell_type": "code",
   "execution_count": 5,
   "metadata": {},
   "outputs": [],
   "source": [
    "import tensorflow as tf\n",
    "from tensorflow.keras.datasets import mnist\n",
    "from tensorflow.keras import Sequential\n",
    "from tensorflow.keras.layers import (Flatten, Dense, MaxPooling2D)"
   ]
  },
  {
   "cell_type": "code",
   "execution_count": 18,
   "metadata": {},
   "outputs": [],
   "source": [
    "import matplotlib.pyplot as plt\n",
    "import seaborn as sns\n",
    "sns.set(style = 'darkgrid', context = 'talk')"
   ]
  },
  {
   "attachments": {},
   "cell_type": "markdown",
   "metadata": {},
   "source": [
    "The function sns.set(style='darkgrid', context='talk') is used to set the aesthetic style and the scaling of the plot elements in seaborn1. The style parameter controls things like the color of the axes, whether a grid is enabled by default, and other aesthetic elements. The context parameter controls the size of the labels, lines, and other elements of the plot, making it easy to adapt your figure for different contexts such as a paper, a talk, or a poster1.\n",
    "\n",
    "The style='darkgrid' means that the background of the plot will be dark and a grid will be drawn to help read the plot. The context='talk' means that the plot elements will be scaled up slightly to make them more visible in a talk setting1. You can also use other values for these parameters, such as style='white' or context='paper', depending on your preference and purpose1."
   ]
  },
  {
   "cell_type": "code",
   "execution_count": 24,
   "metadata": {},
   "outputs": [],
   "source": [
    "(train_data, train_labels), (test_data, test_labels) = mnist.load_data()\n",
    "train_data, valid_data, train_labels, valid_labels = train_test_split(train_data, train_labels, test_size = 10000, random_state = 42)"
   ]
  },
  {
   "cell_type": "code",
   "execution_count": 28,
   "metadata": {},
   "outputs": [
    {
     "name": "stdout",
     "output_type": "stream",
     "text": [
      " ----Training data----\n",
      "Data shape: (50000, 28, 28)\n",
      "Label shape: (50000,)\n",
      "Unique labels: [0 1 2 3 4 5 6 7 8 9]\n"
     ]
    }
   ],
   "source": [
    "print(\" ----Training data----\")\n",
    "print(f\"Data shape: {train_data.shape}\")\n",
    "print(f\"Label shape: {train_labels.shape}\")\n",
    "print(f\"Unique labels: {np.unique(train_labels)}\")"
   ]
  },
  {
   "cell_type": "code",
   "execution_count": 32,
   "metadata": {},
   "outputs": [
    {
     "name": "stdout",
     "output_type": "stream",
     "text": [
      "----Validation data----\n",
      "Data shape: (10000, 28, 28)\n",
      "Label shape: (10000,)\n",
      "Unique labels: [0 1 2 3 4 5 6 7 8 9]\n"
     ]
    }
   ],
   "source": [
    "print(\"----Validation data----\")\n",
    "print(f\"Data shape: {valid_data.shape}\")\n",
    "print(f\"Label shape: {valid_labels.shape}\")\n",
    "print(f\"Unique labels: {np.unique(valid_labels)}\")"
   ]
  },
  {
   "cell_type": "code",
   "execution_count": 34,
   "metadata": {},
   "outputs": [
    {
     "name": "stdout",
     "output_type": "stream",
     "text": [
      "----Test data----\n",
      "Data shape: (10000, 28, 28)\n",
      "Label shape: (10000,)\n",
      "Unique labels: [0 1 2 3 4 5 6 7 8 9]\n"
     ]
    }
   ],
   "source": [
    "print(\"----Test data----\")\n",
    "print(f\"Data shape: {test_data.shape}\")\n",
    "print(f\"Label shape: {test_labels.shape}\")\n",
    "print(f\"Unique labels: {np.unique(test_labels)}\")"
   ]
  },
  {
   "attachments": {},
   "cell_type": "markdown",
   "metadata": {},
   "source": [
    "Checking for skewdness in data"
   ]
  },
  {
   "cell_type": "code",
   "execution_count": 45,
   "metadata": {},
   "outputs": [
    {
     "data": {
      "text/html": [
       "<style type=\"text/css\">\n",
       "#T_c2f0e_row0_col0, #T_c2f0e_row6_col0, #T_c2f0e_row9_col0 {\n",
       "  background-color: #abdc8d;\n",
       "  color: #000000;\n",
       "}\n",
       "#T_c2f0e_row0_col1 {\n",
       "  background-color: #aedd8e;\n",
       "  color: #000000;\n",
       "}\n",
       "#T_c2f0e_row0_col2 {\n",
       "  background-color: #b2df90;\n",
       "  color: #000000;\n",
       "}\n",
       "#T_c2f0e_row1_col0, #T_c2f0e_row1_col1, #T_c2f0e_row1_col2 {\n",
       "  background-color: #004529;\n",
       "  color: #f1f1f1;\n",
       "}\n",
       "#T_c2f0e_row2_col0 {\n",
       "  background-color: #a1d889;\n",
       "  color: #000000;\n",
       "}\n",
       "#T_c2f0e_row2_col1 {\n",
       "  background-color: #95d385;\n",
       "  color: #000000;\n",
       "}\n",
       "#T_c2f0e_row2_col2 {\n",
       "  background-color: #56b568;\n",
       "  color: #f1f1f1;\n",
       "}\n",
       "#T_c2f0e_row3_col0 {\n",
       "  background-color: #62bb6e;\n",
       "  color: #f1f1f1;\n",
       "}\n",
       "#T_c2f0e_row3_col1 {\n",
       "  background-color: #86cc7f;\n",
       "  color: #000000;\n",
       "}\n",
       "#T_c2f0e_row3_col2 {\n",
       "  background-color: #7ec97b;\n",
       "  color: #000000;\n",
       "}\n",
       "#T_c2f0e_row4_col0 {\n",
       "  background-color: #c3e698;\n",
       "  color: #000000;\n",
       "}\n",
       "#T_c2f0e_row4_col1 {\n",
       "  background-color: #b6e192;\n",
       "  color: #000000;\n",
       "}\n",
       "#T_c2f0e_row4_col2 {\n",
       "  background-color: #afde8f;\n",
       "  color: #000000;\n",
       "}\n",
       "#T_c2f0e_row5_col0, #T_c2f0e_row5_col1, #T_c2f0e_row5_col2 {\n",
       "  background-color: #ffffe5;\n",
       "  color: #000000;\n",
       "}\n",
       "#T_c2f0e_row6_col1 {\n",
       "  background-color: #b3e091;\n",
       "  color: #000000;\n",
       "}\n",
       "#T_c2f0e_row6_col2 {\n",
       "  background-color: #d2eda0;\n",
       "  color: #000000;\n",
       "}\n",
       "#T_c2f0e_row7_col0 {\n",
       "  background-color: #47ae60;\n",
       "  color: #f1f1f1;\n",
       "}\n",
       "#T_c2f0e_row7_col1 {\n",
       "  background-color: #12763d;\n",
       "  color: #f1f1f1;\n",
       "}\n",
       "#T_c2f0e_row7_col2 {\n",
       "  background-color: #5db96b;\n",
       "  color: #f1f1f1;\n",
       "}\n",
       "#T_c2f0e_row8_col0 {\n",
       "  background-color: #c0e597;\n",
       "  color: #000000;\n",
       "}\n",
       "#T_c2f0e_row8_col1 {\n",
       "  background-color: #b8e293;\n",
       "  color: #000000;\n",
       "}\n",
       "#T_c2f0e_row8_col2 {\n",
       "  background-color: #bae394;\n",
       "  color: #000000;\n",
       "}\n",
       "#T_c2f0e_row9_col1 {\n",
       "  background-color: #6fc174;\n",
       "  color: #000000;\n",
       "}\n",
       "#T_c2f0e_row9_col2 {\n",
       "  background-color: #7fc97c;\n",
       "  color: #000000;\n",
       "}\n",
       "</style>\n",
       "<table id=\"T_c2f0e_\">\n",
       "  <thead>\n",
       "    <tr>\n",
       "      <th class=\"blank level0\" >&nbsp;</th>\n",
       "      <th class=\"col_heading level0 col0\" >train</th>\n",
       "      <th class=\"col_heading level0 col1\" >valid</th>\n",
       "      <th class=\"col_heading level0 col2\" >test</th>\n",
       "    </tr>\n",
       "  </thead>\n",
       "  <tbody>\n",
       "    <tr>\n",
       "      <th id=\"T_c2f0e_level0_row0\" class=\"row_heading level0 row0\" >0</th>\n",
       "      <td id=\"T_c2f0e_row0_col0\" class=\"data row0 col0\" >9.88%</td>\n",
       "      <td id=\"T_c2f0e_row0_col1\" class=\"data row0 col1\" >9.84%</td>\n",
       "      <td id=\"T_c2f0e_row0_col2\" class=\"data row0 col2\" >9.80%</td>\n",
       "    </tr>\n",
       "    <tr>\n",
       "      <th id=\"T_c2f0e_level0_row1\" class=\"row_heading level0 row1\" >1</th>\n",
       "      <td id=\"T_c2f0e_row1_col0\" class=\"data row1 col0\" >11.30%</td>\n",
       "      <td id=\"T_c2f0e_row1_col1\" class=\"data row1 col1\" >10.93%</td>\n",
       "      <td id=\"T_c2f0e_row1_col2\" class=\"data row1 col2\" >11.35%</td>\n",
       "    </tr>\n",
       "    <tr>\n",
       "      <th id=\"T_c2f0e_level0_row2\" class=\"row_heading level0 row2\" >2</th>\n",
       "      <td id=\"T_c2f0e_row2_col0\" class=\"data row2 col0\" >9.93%</td>\n",
       "      <td id=\"T_c2f0e_row2_col1\" class=\"data row2 col1\" >9.94%</td>\n",
       "      <td id=\"T_c2f0e_row2_col2\" class=\"data row2 col2\" >10.32%</td>\n",
       "    </tr>\n",
       "    <tr>\n",
       "      <th id=\"T_c2f0e_level0_row3\" class=\"row_heading level0 row3\" >3</th>\n",
       "      <td id=\"T_c2f0e_row3_col0\" class=\"data row3 col0\" >10.26%</td>\n",
       "      <td id=\"T_c2f0e_row3_col1\" class=\"data row3 col1\" >10.00%</td>\n",
       "      <td id=\"T_c2f0e_row3_col2\" class=\"data row3 col2\" >10.10%</td>\n",
       "    </tr>\n",
       "    <tr>\n",
       "      <th id=\"T_c2f0e_level0_row4\" class=\"row_heading level0 row4\" >4</th>\n",
       "      <td id=\"T_c2f0e_row4_col0\" class=\"data row4 col0\" >9.72%</td>\n",
       "      <td id=\"T_c2f0e_row4_col1\" class=\"data row4 col1\" >9.80%</td>\n",
       "      <td id=\"T_c2f0e_row4_col2\" class=\"data row4 col2\" >9.82%</td>\n",
       "    </tr>\n",
       "    <tr>\n",
       "      <th id=\"T_c2f0e_level0_row5\" class=\"row_heading level0 row5\" >5</th>\n",
       "      <td id=\"T_c2f0e_row5_col0\" class=\"data row5 col0\" >9.00%</td>\n",
       "      <td id=\"T_c2f0e_row5_col1\" class=\"data row5 col1\" >9.19%</td>\n",
       "      <td id=\"T_c2f0e_row5_col2\" class=\"data row5 col2\" >8.92%</td>\n",
       "    </tr>\n",
       "    <tr>\n",
       "      <th id=\"T_c2f0e_level0_row6\" class=\"row_heading level0 row6\" >6</th>\n",
       "      <td id=\"T_c2f0e_row6_col0\" class=\"data row6 col0\" >9.87%</td>\n",
       "      <td id=\"T_c2f0e_row6_col1\" class=\"data row6 col1\" >9.81%</td>\n",
       "      <td id=\"T_c2f0e_row6_col2\" class=\"data row6 col2\" >9.58%</td>\n",
       "    </tr>\n",
       "    <tr>\n",
       "      <th id=\"T_c2f0e_level0_row7\" class=\"row_heading level0 row7\" >7</th>\n",
       "      <td id=\"T_c2f0e_row7_col0\" class=\"data row7 col0\" >10.41%</td>\n",
       "      <td id=\"T_c2f0e_row7_col1\" class=\"data row7 col1\" >10.60%</td>\n",
       "      <td id=\"T_c2f0e_row7_col2\" class=\"data row7 col2\" >10.28%</td>\n",
       "    </tr>\n",
       "    <tr>\n",
       "      <th id=\"T_c2f0e_level0_row8\" class=\"row_heading level0 row8\" >8</th>\n",
       "      <td id=\"T_c2f0e_row8_col0\" class=\"data row8 col0\" >9.74%</td>\n",
       "      <td id=\"T_c2f0e_row8_col1\" class=\"data row8 col1\" >9.79%</td>\n",
       "      <td id=\"T_c2f0e_row8_col2\" class=\"data row8 col2\" >9.74%</td>\n",
       "    </tr>\n",
       "    <tr>\n",
       "      <th id=\"T_c2f0e_level0_row9\" class=\"row_heading level0 row9\" >9</th>\n",
       "      <td id=\"T_c2f0e_row9_col0\" class=\"data row9 col0\" >9.88%</td>\n",
       "      <td id=\"T_c2f0e_row9_col1\" class=\"data row9 col1\" >10.10%</td>\n",
       "      <td id=\"T_c2f0e_row9_col2\" class=\"data row9 col2\" >10.09%</td>\n",
       "    </tr>\n",
       "  </tbody>\n",
       "</table>\n"
      ],
      "text/plain": [
       "<pandas.io.formats.style.Styler at 0x1b38e2d7bb0>"
      ]
     },
     "execution_count": 45,
     "metadata": {},
     "output_type": "execute_result"
    }
   ],
   "source": [
    "n_classes = len(np.unique(train_labels))\n",
    "(pd.concat([pd.Series(train_labels).value_counts(normalize= True)\n",
    "                .sort_index(),\n",
    "            pd.Series(valid_labels).value_counts(normalize = True)\n",
    "                .sort_index(),\n",
    "            pd.Series(test_labels).value_counts(normalize = True)\n",
    "                .sort_index()],\n",
    "          keys = ['train', 'valid', 'test'], axis = 1)\n",
    "   .style.background_gradient('YlGn', axis = 'index').format(\"{:.2%}\"))"
   ]
  },
  {
   "attachments": {},
   "cell_type": "markdown",
   "metadata": {},
   "source": [
    "The distribution seems to be fair, there is no skewedness in data"
   ]
  },
  {
   "cell_type": "code",
   "execution_count": 49,
   "metadata": {},
   "outputs": [
    {
     "data": {
      "image/png": "[encoded data removed]",
      "text/plain": [
       "<Figure size 576x360 with 6 Axes>"
      ]
     },
     "metadata": {},
     "output_type": "display_data"
    }
   ],
   "source": [
    "def inspect_sample_images(data, labels, title, n_rows = 2, n_cols = 3, seed = 42):\n",
    "    np.random.seed(seed)\n",
    "    indices = np.random.choice(range(len(data)), n_rows* n_cols, replace = False)\n",
    "\n",
    "    plt.figure(figsize = (8, 5))\n",
    "    for i, ind in enumerate(indices):\n",
    "        ax = plt.subplot(n_rows, n_cols, i+1)\n",
    "        plt.imshow(data[ind], cmap = 'binary')\n",
    "        plt.axis('off')\n",
    "        plt.title(f\"Label : {labels[ind]}\", fontsize = 14)\n",
    "    plt.suptitle(title, fontsize = 20)\n",
    "    plt.tight_layout()\n",
    "\n",
    "inspect_sample_images(train_data, train_labels, 'Sample training images')"
   ]
  },
  {
   "attachments": {},
   "cell_type": "markdown",
   "metadata": {},
   "source": [
    "This line of code uses NumPy's random.choice() function to randomly select a specified number of indices from a range of integers.\n",
    "\n",
    "Here's a breakdown of the different parts of this line:\n",
    "\n",
    "np.random.choice() is a function from the NumPy library that randomly selects elements from a given array or range of numbers.\n",
    "range(len(data)) creates a range of integers from 0 to the length of the data array.\n",
    "n_rows*n_cols is the total number of indices to select. This is typically used when creating a grid of subplots, where n_rows and n_cols represent the number of rows and columns in the grid, respectively.\n",
    "replace=False ensures that the same index is not selected more than once. If replace=True, then the same index can be selected multiple times.\n",
    "The result of this line of code is an array of n_rows*n_cols randomly selected indices, which can be used to index into the data array to select the corresponding elements. This is often used when creating a grid of subplots and selecting a subset of the data to display in each subplot"
   ]
  },
  {
   "cell_type": "markdown",
   "metadata": {},
   "source": []
  }
 ],
 "metadata": {
  "kernelspec": {
   "display_name": "base",
   "language": "python",
   "name": "python3"
  },
  "language_info": {
   "codemirror_mode": {
    "name": "ipython",
    "version": 3
   },
   "file_extension": ".py",
   "mimetype": "text/x-python",
   "name": "python",
   "nbconvert_exporter": "python",
   "pygments_lexer": "ipython3",
   "version": "3.9.7"
  },
  "orig_nbformat": 4
 },
 "nbformat": 4,
 "nbformat_minor": 2
}
