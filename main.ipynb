{
 "cells": [
  {
   "cell_type": "code",
   "execution_count": 1,
   "metadata": {},
   "outputs": [],
   "source": [
    "import numpy as np\n",
    "import pandas as pd\n",
    "from sklearn.model_selection import train_test_split"
   ]
  },
  {
   "cell_type": "code",
   "execution_count": 2,
   "metadata": {},
   "outputs": [],
   "source": [
    "import tensorflow as tf\n",
    "from tensorflow.keras.datasets import mnist\n",
    "from tensorflow.keras import Sequential\n",
    "from tensorflow.keras.layers import (Flatten, Dense, MaxPooling2D)"
   ]
  },
  {
   "cell_type": "code",
   "execution_count": 3,
   "metadata": {},
   "outputs": [],
   "source": [
    "import matplotlib.pyplot as plt\n",
    "import seaborn as sns\n",
    "sns.set(style = 'darkgrid', context = 'talk')"
   ]
  },
  {
   "attachments": {},
   "cell_type": "markdown",
   "metadata": {},
   "source": [
    "The function sns.set(style='darkgrid', context='talk') is used to set the aesthetic style and the scaling of the plot elements in seaborn1. The style parameter controls things like the color of the axes, whether a grid is enabled by default, and other aesthetic elements. The context parameter controls the size of the labels, lines, and other elements of the plot, making it easy to adapt your figure for different contexts such as a paper, a talk, or a poster1.\n",
    "\n",
    "The style='darkgrid' means that the background of the plot will be dark and a grid will be drawn to help read the plot. The context='talk' means that the plot elements will be scaled up slightly to make them more visible in a talk setting1. You can also use other values for these parameters, such as style='white' or context='paper', depending on your preference and purpose1."
   ]
  },
  {
   "cell_type": "code",
   "execution_count": 4,
   "metadata": {},
   "outputs": [],
   "source": [
    "(train_data, train_labels), (test_data, test_labels) = mnist.load_data()\n",
    "train_data, valid_data, train_labels, valid_labels = train_test_split(train_data, train_labels, test_size = 10000, random_state = 42)"
   ]
  },
  {
   "cell_type": "code",
   "execution_count": 5,
   "metadata": {},
   "outputs": [
    {
     "name": "stdout",
     "output_type": "stream",
     "text": [
      " ----Training data----\n",
      "Data shape: (50000, 28, 28)\n",
      "Label shape: (50000,)\n",
      "Unique labels: [0 1 2 3 4 5 6 7 8 9]\n"
     ]
    }
   ],
   "source": [
    "print(\" ----Training data----\")\n",
    "print(f\"Data shape: {train_data.shape}\")\n",
    "print(f\"Label shape: {train_labels.shape}\")\n",
    "print(f\"Unique labels: {np.unique(train_labels)}\")"
   ]
  },
  {
   "cell_type": "code",
   "execution_count": 6,
   "metadata": {},
   "outputs": [
    {
     "name": "stdout",
     "output_type": "stream",
     "text": [
      "----Validation data----\n",
      "Data shape: (10000, 28, 28)\n",
      "Label shape: (10000,)\n",
      "Unique labels: [0 1 2 3 4 5 6 7 8 9]\n"
     ]
    }
   ],
   "source": [
    "print(\"----Validation data----\")\n",
    "print(f\"Data shape: {valid_data.shape}\")\n",
    "print(f\"Label shape: {valid_labels.shape}\")\n",
    "print(f\"Unique labels: {np.unique(valid_labels)}\")"
   ]
  },
  {
   "cell_type": "code",
   "execution_count": 7,
   "metadata": {},
   "outputs": [
    {
     "name": "stdout",
     "output_type": "stream",
     "text": [
      "----Test data----\n",
      "Data shape: (10000, 28, 28)\n",
      "Label shape: (10000,)\n",
      "Unique labels: [0 1 2 3 4 5 6 7 8 9]\n"
     ]
    }
   ],
   "source": [
    "print(\"----Test data----\")\n",
    "print(f\"Data shape: {test_data.shape}\")\n",
    "print(f\"Label shape: {test_labels.shape}\")\n",
    "print(f\"Unique labels: {np.unique(test_labels)}\")"
   ]
  },
  {
   "attachments": {},
   "cell_type": "markdown",
   "metadata": {},
   "source": [
    "Checking for skewdness in data"
   ]
  },
  {
   "cell_type": "code",
   "execution_count": 8,
   "metadata": {},
   "outputs": [
    {
     "data": {
      "text/html": [
       "<style type=\"text/css\">\n",
       "#T_da7f7_row0_col0, #T_da7f7_row6_col0, #T_da7f7_row9_col0 {\n",
       "  background-color: #abdc8d;\n",
       "  color: #000000;\n",
       "}\n",
       "#T_da7f7_row0_col1 {\n",
       "  background-color: #aedd8e;\n",
       "  color: #000000;\n",
       "}\n",
       "#T_da7f7_row0_col2 {\n",
       "  background-color: #b2df90;\n",
       "  color: #000000;\n",
       "}\n",
       "#T_da7f7_row1_col0, #T_da7f7_row1_col1, #T_da7f7_row1_col2 {\n",
       "  background-color: #004529;\n",
       "  color: #f1f1f1;\n",
       "}\n",
       "#T_da7f7_row2_col0 {\n",
       "  background-color: #a1d889;\n",
       "  color: #000000;\n",
       "}\n",
       "#T_da7f7_row2_col1 {\n",
       "  background-color: #95d385;\n",
       "  color: #000000;\n",
       "}\n",
       "#T_da7f7_row2_col2 {\n",
       "  background-color: #56b568;\n",
       "  color: #f1f1f1;\n",
       "}\n",
       "#T_da7f7_row3_col0 {\n",
       "  background-color: #62bb6e;\n",
       "  color: #f1f1f1;\n",
       "}\n",
       "#T_da7f7_row3_col1 {\n",
       "  background-color: #86cc7f;\n",
       "  color: #000000;\n",
       "}\n",
       "#T_da7f7_row3_col2 {\n",
       "  background-color: #7ec97b;\n",
       "  color: #000000;\n",
       "}\n",
       "#T_da7f7_row4_col0 {\n",
       "  background-color: #c3e698;\n",
       "  color: #000000;\n",
       "}\n",
       "#T_da7f7_row4_col1 {\n",
       "  background-color: #b6e192;\n",
       "  color: #000000;\n",
       "}\n",
       "#T_da7f7_row4_col2 {\n",
       "  background-color: #afde8f;\n",
       "  color: #000000;\n",
       "}\n",
       "#T_da7f7_row5_col0, #T_da7f7_row5_col1, #T_da7f7_row5_col2 {\n",
       "  background-color: #ffffe5;\n",
       "  color: #000000;\n",
       "}\n",
       "#T_da7f7_row6_col1 {\n",
       "  background-color: #b3e091;\n",
       "  color: #000000;\n",
       "}\n",
       "#T_da7f7_row6_col2 {\n",
       "  background-color: #d2eda0;\n",
       "  color: #000000;\n",
       "}\n",
       "#T_da7f7_row7_col0 {\n",
       "  background-color: #47ae60;\n",
       "  color: #f1f1f1;\n",
       "}\n",
       "#T_da7f7_row7_col1 {\n",
       "  background-color: #12763d;\n",
       "  color: #f1f1f1;\n",
       "}\n",
       "#T_da7f7_row7_col2 {\n",
       "  background-color: #5db96b;\n",
       "  color: #f1f1f1;\n",
       "}\n",
       "#T_da7f7_row8_col0 {\n",
       "  background-color: #c0e597;\n",
       "  color: #000000;\n",
       "}\n",
       "#T_da7f7_row8_col1 {\n",
       "  background-color: #b8e293;\n",
       "  color: #000000;\n",
       "}\n",
       "#T_da7f7_row8_col2 {\n",
       "  background-color: #bae394;\n",
       "  color: #000000;\n",
       "}\n",
       "#T_da7f7_row9_col1 {\n",
       "  background-color: #6fc174;\n",
       "  color: #000000;\n",
       "}\n",
       "#T_da7f7_row9_col2 {\n",
       "  background-color: #7fc97c;\n",
       "  color: #000000;\n",
       "}\n",
       "</style>\n",
       "<table id=\"T_da7f7_\">\n",
       "  <thead>\n",
       "    <tr>\n",
       "      <th class=\"blank level0\" >&nbsp;</th>\n",
       "      <th class=\"col_heading level0 col0\" >train</th>\n",
       "      <th class=\"col_heading level0 col1\" >valid</th>\n",
       "      <th class=\"col_heading level0 col2\" >test</th>\n",
       "    </tr>\n",
       "  </thead>\n",
       "  <tbody>\n",
       "    <tr>\n",
       "      <th id=\"T_da7f7_level0_row0\" class=\"row_heading level0 row0\" >0</th>\n",
       "      <td id=\"T_da7f7_row0_col0\" class=\"data row0 col0\" >9.88%</td>\n",
       "      <td id=\"T_da7f7_row0_col1\" class=\"data row0 col1\" >9.84%</td>\n",
       "      <td id=\"T_da7f7_row0_col2\" class=\"data row0 col2\" >9.80%</td>\n",
       "    </tr>\n",
       "    <tr>\n",
       "      <th id=\"T_da7f7_level0_row1\" class=\"row_heading level0 row1\" >1</th>\n",
       "      <td id=\"T_da7f7_row1_col0\" class=\"data row1 col0\" >11.30%</td>\n",
       "      <td id=\"T_da7f7_row1_col1\" class=\"data row1 col1\" >10.93%</td>\n",
       "      <td id=\"T_da7f7_row1_col2\" class=\"data row1 col2\" >11.35%</td>\n",
       "    </tr>\n",
       "    <tr>\n",
       "      <th id=\"T_da7f7_level0_row2\" class=\"row_heading level0 row2\" >2</th>\n",
       "      <td id=\"T_da7f7_row2_col0\" class=\"data row2 col0\" >9.93%</td>\n",
       "      <td id=\"T_da7f7_row2_col1\" class=\"data row2 col1\" >9.94%</td>\n",
       "      <td id=\"T_da7f7_row2_col2\" class=\"data row2 col2\" >10.32%</td>\n",
       "    </tr>\n",
       "    <tr>\n",
       "      <th id=\"T_da7f7_level0_row3\" class=\"row_heading level0 row3\" >3</th>\n",
       "      <td id=\"T_da7f7_row3_col0\" class=\"data row3 col0\" >10.26%</td>\n",
       "      <td id=\"T_da7f7_row3_col1\" class=\"data row3 col1\" >10.00%</td>\n",
       "      <td id=\"T_da7f7_row3_col2\" class=\"data row3 col2\" >10.10%</td>\n",
       "    </tr>\n",
       "    <tr>\n",
       "      <th id=\"T_da7f7_level0_row4\" class=\"row_heading level0 row4\" >4</th>\n",
       "      <td id=\"T_da7f7_row4_col0\" class=\"data row4 col0\" >9.72%</td>\n",
       "      <td id=\"T_da7f7_row4_col1\" class=\"data row4 col1\" >9.80%</td>\n",
       "      <td id=\"T_da7f7_row4_col2\" class=\"data row4 col2\" >9.82%</td>\n",
       "    </tr>\n",
       "    <tr>\n",
       "      <th id=\"T_da7f7_level0_row5\" class=\"row_heading level0 row5\" >5</th>\n",
       "      <td id=\"T_da7f7_row5_col0\" class=\"data row5 col0\" >9.00%</td>\n",
       "      <td id=\"T_da7f7_row5_col1\" class=\"data row5 col1\" >9.19%</td>\n",
       "      <td id=\"T_da7f7_row5_col2\" class=\"data row5 col2\" >8.92%</td>\n",
       "    </tr>\n",
       "    <tr>\n",
       "      <th id=\"T_da7f7_level0_row6\" class=\"row_heading level0 row6\" >6</th>\n",
       "      <td id=\"T_da7f7_row6_col0\" class=\"data row6 col0\" >9.87%</td>\n",
       "      <td id=\"T_da7f7_row6_col1\" class=\"data row6 col1\" >9.81%</td>\n",
       "      <td id=\"T_da7f7_row6_col2\" class=\"data row6 col2\" >9.58%</td>\n",
       "    </tr>\n",
       "    <tr>\n",
       "      <th id=\"T_da7f7_level0_row7\" class=\"row_heading level0 row7\" >7</th>\n",
       "      <td id=\"T_da7f7_row7_col0\" class=\"data row7 col0\" >10.41%</td>\n",
       "      <td id=\"T_da7f7_row7_col1\" class=\"data row7 col1\" >10.60%</td>\n",
       "      <td id=\"T_da7f7_row7_col2\" class=\"data row7 col2\" >10.28%</td>\n",
       "    </tr>\n",
       "    <tr>\n",
       "      <th id=\"T_da7f7_level0_row8\" class=\"row_heading level0 row8\" >8</th>\n",
       "      <td id=\"T_da7f7_row8_col0\" class=\"data row8 col0\" >9.74%</td>\n",
       "      <td id=\"T_da7f7_row8_col1\" class=\"data row8 col1\" >9.79%</td>\n",
       "      <td id=\"T_da7f7_row8_col2\" class=\"data row8 col2\" >9.74%</td>\n",
       "    </tr>\n",
       "    <tr>\n",
       "      <th id=\"T_da7f7_level0_row9\" class=\"row_heading level0 row9\" >9</th>\n",
       "      <td id=\"T_da7f7_row9_col0\" class=\"data row9 col0\" >9.88%</td>\n",
       "      <td id=\"T_da7f7_row9_col1\" class=\"data row9 col1\" >10.10%</td>\n",
       "      <td id=\"T_da7f7_row9_col2\" class=\"data row9 col2\" >10.09%</td>\n",
       "    </tr>\n",
       "  </tbody>\n",
       "</table>\n"
      ],
      "text/plain": [
       "<pandas.io.formats.style.Styler at 0x2decbc830a0>"
      ]
     },
     "execution_count": 8,
     "metadata": {},
     "output_type": "execute_result"
    }
   ],
   "source": [
    "n_classes = len(np.unique(train_labels))\n",
    "(pd.concat([pd.Series(train_labels).value_counts(normalize= True)\n",
    "                .sort_index(),\n",
    "            pd.Series(valid_labels).value_counts(normalize = True)\n",
    "                .sort_index(),\n",
    "            pd.Series(test_labels).value_counts(normalize = True)\n",
    "                .sort_index()],\n",
    "          keys = ['train', 'valid', 'test'], axis = 1)\n",
    "   .style.background_gradient('YlGn', axis = 'index').format(\"{:.2%}\"))"
   ]
  },
  {
   "attachments": {},
   "cell_type": "markdown",
   "metadata": {},
   "source": [
    "The distribution seems to be fair, there is no skewedness in data"
   ]
  },
  {
   "cell_type": "code",
   "execution_count": 9,
   "metadata": {},
   "outputs": [
    {
     "data": {
      "image/png": "[encoded data removed]",
      "text/plain": [
       "<Figure size 576x360 with 6 Axes>"
      ]
     },
     "metadata": {},
     "output_type": "display_data"
    }
   ],
   "source": [
    "def inspect_sample_images(data, labels, title, n_rows = 2, n_cols = 3, seed = 42):\n",
    "    np.random.seed(seed)\n",
    "    indices = np.random.choice(range(len(data)), n_rows* n_cols, replace = False)\n",
    "\n",
    "    plt.figure(figsize = (8, 5))\n",
    "    for i, ind in enumerate(indices):\n",
    "        ax = plt.subplot(n_rows, n_cols, i+1)\n",
    "        plt.imshow(data[ind], cmap = 'binary')\n",
    "        plt.axis('off')\n",
    "        plt.title(f\"Label : {labels[ind]}\", fontsize = 14)\n",
    "    plt.suptitle(title, fontsize = 20)\n",
    "    plt.tight_layout()\n",
    "\n",
    "inspect_sample_images(train_data, train_labels, 'Sample training images')"
   ]
  },
  {
   "attachments": {},
   "cell_type": "markdown",
   "metadata": {},
   "source": [
    "This line of code uses NumPy's random.choice() function to randomly select a specified number of indices from a range of integers.\n",
    "\n",
    "Here's a breakdown of the different parts of this line:\n",
    "\n",
    "np.random.choice() is a function from the NumPy library that randomly selects elements from a given array or range of numbers.\n",
    "range(len(data)) creates a range of integers from 0 to the length of the data array.\n",
    "n_rows*n_cols is the total number of indices to select. This is typically used when creating a grid of subplots, where n_rows and n_cols represent the number of rows and columns in the grid, respectively.\n",
    "replace=False ensures that the same index is not selected more than once. If replace=True, then the same index can be selected multiple times.\n",
    "The result of this line of code is an array of n_rows*n_cols randomly selected indices, which can be used to index into the data array to select the corresponding elements. This is often used when creating a grid of subplots and selecting a subset of the data to display in each subplot"
   ]
  },
  {
   "cell_type": "code",
   "execution_count": 10,
   "metadata": {},
   "outputs": [
    {
     "data": {
      "image/png": "[encoded data removed]",
      "text/plain": [
       "<Figure size 576x360 with 6 Axes>"
      ]
     },
     "metadata": {},
     "output_type": "display_data"
    }
   ],
   "source": [
    "inspect_sample_images(valid_data, valid_labels, 'Sample validation images')"
   ]
  },
  {
   "cell_type": "code",
   "execution_count": 11,
   "metadata": {},
   "outputs": [
    {
     "data": {
      "image/png": "[encoded data removed]",
      "text/plain": [
       "<Figure size 576x360 with 6 Axes>"
      ]
     },
     "metadata": {},
     "output_type": "display_data"
    }
   ],
   "source": [
    "inspect_sample_images(test_data, test_labels, \"Sample test data\")"
   ]
  },
  {
   "attachments": {},
   "cell_type": "markdown",
   "metadata": {},
   "source": [
    "Model 0"
   ]
  },
  {
   "attachments": {},
   "cell_type": "markdown",
   "metadata": {},
   "source": [
    "one-hot encoding our labels.(currently they are in 1D format)"
   ]
  },
  {
   "cell_type": "code",
   "execution_count": 12,
   "metadata": {},
   "outputs": [],
   "source": [
    "train_labels_ohe = tf.one_hot(train_labels, 10)\n",
    "valid_labels_ohe = tf.one_hot(valid_labels, 10)\n",
    "test_labels_ohe = tf.one_hot(test_labels, 10)\n",
    "\n",
    "tf.random.set_seed(42)\n",
    "model_0 = Sequential([\n",
    "    Flatten(input_shape = (28, 28)),\n",
    "    Dense(16, activation = \"relu\"),\n",
    "    Dense(16, activation = \"relu\"),\n",
    "    Dense(n_classes, activation = \"softmax\")\n",
    "])"
   ]
  },
  {
   "cell_type": "code",
   "execution_count": 13,
   "metadata": {},
   "outputs": [
    {
     "name": "stdout",
     "output_type": "stream",
     "text": [
      "Model: \"sequential\"\n",
      "_________________________________________________________________\n",
      " Layer (type)                Output Shape              Param #   \n",
      "=================================================================\n",
      " flatten (Flatten)           (None, 784)               0         \n",
      "                                                                 \n",
      " dense (Dense)               (None, 16)                12560     \n",
      "                                                                 \n",
      " dense_1 (Dense)             (None, 16)                272       \n",
      "                                                                 \n",
      " dense_2 (Dense)             (None, 10)                170       \n",
      "                                                                 \n",
      "=================================================================\n",
      "Total params: 13,002\n",
      "Trainable params: 13,002\n",
      "Non-trainable params: 0\n",
      "_________________________________________________________________\n"
     ]
    }
   ],
   "source": [
    "model_0.compile(loss = 'categorical_crossentropy', optimizer = 'Adam', metrics = ['accuracy'])\n",
    "model_0.summary()"
   ]
  },
  {
   "cell_type": "code",
   "execution_count": 14,
   "metadata": {},
   "outputs": [
    {
     "name": "stdout",
     "output_type": "stream",
     "text": [
      "Epoch 1/5\n",
      "1563/1563 [==============================] - 10s 5ms/step - loss: 2.0148 - accuracy: 0.3885 - val_loss: 1.3282 - val_accuracy: 0.4829\n",
      "Epoch 2/5\n",
      "1563/1563 [==============================] - 7s 5ms/step - loss: 1.1620 - accuracy: 0.5786 - val_loss: 0.8847 - val_accuracy: 0.7119\n",
      "Epoch 3/5\n",
      "1563/1563 [==============================] - 7s 5ms/step - loss: 0.7441 - accuracy: 0.7728 - val_loss: 0.6011 - val_accuracy: 0.8345\n",
      "Epoch 4/5\n",
      "1563/1563 [==============================] - 9s 6ms/step - loss: 0.5195 - accuracy: 0.8556 - val_loss: 0.5091 - val_accuracy: 0.8580\n",
      "Epoch 5/5\n",
      "1563/1563 [==============================] - 11s 7ms/step - loss: 0.4195 - accuracy: 0.8902 - val_loss: 0.3697 - val_accuracy: 0.9043\n"
     ]
    }
   ],
   "source": [
    "hist_0 = model_0.fit(train_data, train_labels_ohe, epochs = 5,\n",
    "                     validation_data = (valid_data, valid_labels_ohe))"
   ]
  },
  {
   "cell_type": "code",
   "execution_count": 32,
   "metadata": {},
   "outputs": [
    {
     "data": {
      "image/png": "[encoded data removed]",
      "text/plain": [
       "<Figure size 432x288 with 1 Axes>"
      ]
     },
     "metadata": {},
     "output_type": "display_data"
    }
   ],
   "source": [
    "def clean_history(hist):\n",
    "    epochs = len(hist.history['accuracy'])\n",
    "    df = pd.DataFrame(\n",
    "        {\n",
    "        'epochs': np.tile(np.arange(epochs), 2),\n",
    "        'accuracy': hist.history['accuracy']+ hist.history['val_accuracy'],\n",
    "        'loss': hist.history['loss']+ hist.history['val_loss'],\n",
    "        'dataset': np.repeat(['train', 'valid'], epochs)\n",
    "        }\n",
    "    )\n",
    "    return df\n",
    "sns.lineplot(data = clean_history(hist_0), x= 'epochs', y ='accuracy', hue= 'dataset');\n"
   ]
  },
  {
   "attachments": {},
   "cell_type": "markdown",
   "metadata": {},
   "source": [
    "* <b>len(hist.history['accuracy'])</b> will give no. of epochs<br>\n",
    "* <b>'history'</b> attribute of keras 'model' object is dictionary that contains information about the training<br> process, including the values of various metrics(such as accuracy and loss) at each epoch. accurycy key will give accuracy values<br>\n",
    "* <b>tile</b> creates sequence of integers to no. mentioned(here 2)\n",
    "\n"
   ]
  },
  {
   "attachments": {},
   "cell_type": "markdown",
   "metadata": {},
   "source": [
    "<kbd>in the code clean_history(hist), the <b>accuracy values of both the training and validation datasets are added together using the + operator. Similarly, the loss values of both datasets are also added together.</b>\n",
    "\n",
    "This is done in order to create a single column for each metric that contains both the training and validation values for that metric, concatenated together. This allows for easier plotting and analysis of the training process, as the performance of both datasets can be visualized together.\n",
    "\n",
    "concatenating the values of both datasets together may affect the analysis of the data, especially if the datasets have different sizes or different characteristics. For example, if the training dataset is much larger than the validation dataset, concatenating the two datasets may place more emphasis on the performance of the training dataset. Similarly, if the training dataset is more representative of the data in the real world than the validation dataset, concatenating the two datasets may give a false analysis of the model's performance on unseen data.\n",
    "\n",
    "Therefore, it's important to carefully consider the characteristics of the datasets before concatenating them together, and to interpret the results of the analysis with caution. It's also important to perform separate analysis on each dataset individually to get a better understanding of the model's performance on each dataset separately.</kbd>"
   ]
  },
  {
   "cell_type": "code",
   "execution_count": 38,
   "metadata": {},
   "outputs": [
    {
     "name": "stdout",
     "output_type": "stream",
     "text": [
      "313/313 [==============================] - 1s 3ms/step\n"
     ]
    },
    {
     "data": {
      "text/html": [
       "<div>\n",
       "<style scoped>\n",
       "    .dataframe tbody tr th:only-of-type {\n",
       "        vertical-align: middle;\n",
       "    }\n",
       "\n",
       "    .dataframe tbody tr th {\n",
       "        vertical-align: top;\n",
       "    }\n",
       "\n",
       "    .dataframe thead th {\n",
       "        text-align: right;\n",
       "    }\n",
       "</style>\n",
       "<table border=\"1\" class=\"dataframe\">\n",
       "  <thead>\n",
       "    <tr style=\"text-align: right;\">\n",
       "      <th></th>\n",
       "      <th>Test_accuracy</th>\n",
       "    </tr>\n",
       "  </thead>\n",
       "  <tbody>\n",
       "    <tr>\n",
       "      <th>model_0</th>\n",
       "      <td>0.9031</td>\n",
       "    </tr>\n",
       "  </tbody>\n",
       "</table>\n",
       "</div>"
      ],
      "text/plain": [
       "         Test_accuracy\n",
       "model_0         0.9031"
      ]
     },
     "execution_count": 38,
     "metadata": {},
     "output_type": "execute_result"
    }
   ],
   "source": [
    "test_preds_0= model_0.predict(test_data)\n",
    "test_classes_0 = test_preds_0.argmax(axis = 1)\n",
    "test_metrics = pd.DataFrame(columns = ['Test_accuracy'])\n",
    "test_metrics.loc['model_0'] = np.mean(test_labels == test_classes_0)\n",
    "test_metrics"
   ]
  },
  {
   "attachments": {},
   "cell_type": "markdown",
   "metadata": {},
   "source": [
    "In above cell in line 4, we create a boolean array by comparing our predictions(test_classes_0) with true labels(test_labels). Taking mean of this array returns us with the accuracy of our model\n"
   ]
  },
  {
   "attachments": {},
   "cell_type": "markdown",
   "metadata": {},
   "source": [
    "In binary classification problems (where there are only two classes), accuracy is usually defined as the number of correctly classified examples (i.e., true positives and true negatives) divided by the total number of examples. However, in multi-class classification problems (where there are more than two classes), accuracy is usually defined as the number of correctly classified examples divided by the total number of examples.\n",
    "\n",
    "When the code calculates the mean of the boolean array returned by the comparison between \"test_labels\" and \"test_classes_0\" using the \"np.mean\" function, it is essentially computing the proportion of examples that were correctly classified by the model. This is because the boolean array contains \"True\" values for every test example where the predicted class label matches the true class label, and \"False\" values for every test example where the predicted class label does not match the true class label.\n",
    "\n",
    "By taking the mean of this boolean array, we get the fraction of test examples where the predicted class label matches the true class label, which is the same as the proportion of correctly classified examples. Therefore, calculating the mean of the boolean array is a simple way to compute the accuracy of the model on the test set."
   ]
  },
  {
   "cell_type": "code",
   "execution_count": 40,
   "metadata": {},
   "outputs": [
    {
     "data": {
      "text/html": [
       "<style type=\"text/css\">\n",
       "#T_b12e7_row0_col0, #T_b12e7_row1_col1, #T_b12e7_row2_col2, #T_b12e7_row3_col3, #T_b12e7_row4_col4, #T_b12e7_row5_col5, #T_b12e7_row6_col6, #T_b12e7_row7_col7, #T_b12e7_row8_col8, #T_b12e7_row9_col9 {\n",
       "  background-color: #000000;\n",
       "  color: #f1f1f1;\n",
       "}\n",
       "#T_b12e7_row0_col1, #T_b12e7_row0_col3, #T_b12e7_row0_col4, #T_b12e7_row0_col7, #T_b12e7_row0_col8, #T_b12e7_row0_col9, #T_b12e7_row1_col0, #T_b12e7_row1_col4, #T_b12e7_row1_col5, #T_b12e7_row1_col6, #T_b12e7_row1_col7, #T_b12e7_row1_col9, #T_b12e7_row2_col3, #T_b12e7_row2_col9, #T_b12e7_row3_col1, #T_b12e7_row3_col4, #T_b12e7_row3_col6, #T_b12e7_row4_col0, #T_b12e7_row4_col1, #T_b12e7_row4_col3, #T_b12e7_row4_col5, #T_b12e7_row5_col1, #T_b12e7_row5_col2, #T_b12e7_row5_col4, #T_b12e7_row6_col1, #T_b12e7_row6_col3, #T_b12e7_row6_col7, #T_b12e7_row6_col8, #T_b12e7_row6_col9, #T_b12e7_row7_col0, #T_b12e7_row7_col1, #T_b12e7_row7_col3, #T_b12e7_row7_col5, #T_b12e7_row7_col6, #T_b12e7_row9_col1, #T_b12e7_row9_col2, #T_b12e7_row9_col6 {\n",
       "  background-color: #ffffff;\n",
       "  color: #000000;\n",
       "}\n",
       "#T_b12e7_row0_col2, #T_b12e7_row0_col5, #T_b12e7_row0_col6, #T_b12e7_row1_col3, #T_b12e7_row2_col4, #T_b12e7_row2_col5, #T_b12e7_row3_col0, #T_b12e7_row3_col7, #T_b12e7_row4_col2, #T_b12e7_row4_col7, #T_b12e7_row5_col7, #T_b12e7_row6_col4, #T_b12e7_row7_col4, #T_b12e7_row8_col1, #T_b12e7_row8_col9, #T_b12e7_row9_col3 {\n",
       "  background-color: #fefefe;\n",
       "  color: #000000;\n",
       "}\n",
       "#T_b12e7_row1_col2, #T_b12e7_row2_col1, #T_b12e7_row2_col6, #T_b12e7_row4_col8, #T_b12e7_row7_col8, #T_b12e7_row8_col0, #T_b12e7_row8_col4, #T_b12e7_row9_col0 {\n",
       "  background-color: #fdfdfd;\n",
       "  color: #000000;\n",
       "}\n",
       "#T_b12e7_row1_col8, #T_b12e7_row3_col9, #T_b12e7_row6_col5, #T_b12e7_row8_col3, #T_b12e7_row9_col5 {\n",
       "  background-color: #fbfbfb;\n",
       "  color: #000000;\n",
       "}\n",
       "#T_b12e7_row2_col0, #T_b12e7_row2_col8, #T_b12e7_row5_col0, #T_b12e7_row5_col9, #T_b12e7_row8_col7 {\n",
       "  background-color: #fcfcfc;\n",
       "  color: #000000;\n",
       "}\n",
       "#T_b12e7_row2_col7, #T_b12e7_row8_col6, #T_b12e7_row9_col8 {\n",
       "  background-color: #fafafa;\n",
       "  color: #000000;\n",
       "}\n",
       "#T_b12e7_row3_col2 {\n",
       "  background-color: #f6f6f6;\n",
       "  color: #000000;\n",
       "}\n",
       "#T_b12e7_row3_col5, #T_b12e7_row5_col6, #T_b12e7_row6_col0, #T_b12e7_row6_col2 {\n",
       "  background-color: #f8f8f8;\n",
       "  color: #000000;\n",
       "}\n",
       "#T_b12e7_row3_col8 {\n",
       "  background-color: #f0f0f0;\n",
       "  color: #000000;\n",
       "}\n",
       "#T_b12e7_row4_col6, #T_b12e7_row5_col8, #T_b12e7_row7_col2, #T_b12e7_row8_col2 {\n",
       "  background-color: #f7f7f7;\n",
       "  color: #000000;\n",
       "}\n",
       "#T_b12e7_row4_col9 {\n",
       "  background-color: #efefef;\n",
       "  color: #000000;\n",
       "}\n",
       "#T_b12e7_row5_col3 {\n",
       "  background-color: #f1f1f1;\n",
       "  color: #000000;\n",
       "}\n",
       "#T_b12e7_row7_col9 {\n",
       "  background-color: #f9f9f9;\n",
       "  color: #000000;\n",
       "}\n",
       "#T_b12e7_row8_col5 {\n",
       "  background-color: #f5f5f5;\n",
       "  color: #000000;\n",
       "}\n",
       "#T_b12e7_row9_col4 {\n",
       "  background-color: #eeeeee;\n",
       "  color: #000000;\n",
       "}\n",
       "#T_b12e7_row9_col7 {\n",
       "  background-color: #f4f4f4;\n",
       "  color: #000000;\n",
       "}\n",
       "</style>\n",
       "<table id=\"T_b12e7_\">\n",
       "  <thead>\n",
       "    <tr>\n",
       "      <th class=\"index_name level0\" >predicted</th>\n",
       "      <th class=\"col_heading level0 col0\" >0</th>\n",
       "      <th class=\"col_heading level0 col1\" >1</th>\n",
       "      <th class=\"col_heading level0 col2\" >2</th>\n",
       "      <th class=\"col_heading level0 col3\" >3</th>\n",
       "      <th class=\"col_heading level0 col4\" >4</th>\n",
       "      <th class=\"col_heading level0 col5\" >5</th>\n",
       "      <th class=\"col_heading level0 col6\" >6</th>\n",
       "      <th class=\"col_heading level0 col7\" >7</th>\n",
       "      <th class=\"col_heading level0 col8\" >8</th>\n",
       "      <th class=\"col_heading level0 col9\" >9</th>\n",
       "    </tr>\n",
       "    <tr>\n",
       "      <th class=\"index_name level0\" >actual</th>\n",
       "      <th class=\"blank col0\" >&nbsp;</th>\n",
       "      <th class=\"blank col1\" >&nbsp;</th>\n",
       "      <th class=\"blank col2\" >&nbsp;</th>\n",
       "      <th class=\"blank col3\" >&nbsp;</th>\n",
       "      <th class=\"blank col4\" >&nbsp;</th>\n",
       "      <th class=\"blank col5\" >&nbsp;</th>\n",
       "      <th class=\"blank col6\" >&nbsp;</th>\n",
       "      <th class=\"blank col7\" >&nbsp;</th>\n",
       "      <th class=\"blank col8\" >&nbsp;</th>\n",
       "      <th class=\"blank col9\" >&nbsp;</th>\n",
       "    </tr>\n",
       "  </thead>\n",
       "  <tbody>\n",
       "    <tr>\n",
       "      <th id=\"T_b12e7_level0_row0\" class=\"row_heading level0 row0\" >0</th>\n",
       "      <td id=\"T_b12e7_row0_col0\" class=\"data row0 col0\" >956</td>\n",
       "      <td id=\"T_b12e7_row0_col1\" class=\"data row0 col1\" >1</td>\n",
       "      <td id=\"T_b12e7_row0_col2\" class=\"data row0 col2\" >8</td>\n",
       "      <td id=\"T_b12e7_row0_col3\" class=\"data row0 col3\" >0</td>\n",
       "      <td id=\"T_b12e7_row0_col4\" class=\"data row0 col4\" >0</td>\n",
       "      <td id=\"T_b12e7_row0_col5\" class=\"data row0 col5\" >5</td>\n",
       "      <td id=\"T_b12e7_row0_col6\" class=\"data row0 col6\" >6</td>\n",
       "      <td id=\"T_b12e7_row0_col7\" class=\"data row0 col7\" >3</td>\n",
       "      <td id=\"T_b12e7_row0_col8\" class=\"data row0 col8\" >1</td>\n",
       "      <td id=\"T_b12e7_row0_col9\" class=\"data row0 col9\" >0</td>\n",
       "    </tr>\n",
       "    <tr>\n",
       "      <th id=\"T_b12e7_level0_row1\" class=\"row_heading level0 row1\" >1</th>\n",
       "      <td id=\"T_b12e7_row1_col0\" class=\"data row1 col0\" >0</td>\n",
       "      <td id=\"T_b12e7_row1_col1\" class=\"data row1 col1\" >1101</td>\n",
       "      <td id=\"T_b12e7_row1_col2\" class=\"data row1 col2\" >12</td>\n",
       "      <td id=\"T_b12e7_row1_col3\" class=\"data row1 col3\" >4</td>\n",
       "      <td id=\"T_b12e7_row1_col4\" class=\"data row1 col4\" >0</td>\n",
       "      <td id=\"T_b12e7_row1_col5\" class=\"data row1 col5\" >1</td>\n",
       "      <td id=\"T_b12e7_row1_col6\" class=\"data row1 col6\" >0</td>\n",
       "      <td id=\"T_b12e7_row1_col7\" class=\"data row1 col7\" >2</td>\n",
       "      <td id=\"T_b12e7_row1_col8\" class=\"data row1 col8\" >15</td>\n",
       "      <td id=\"T_b12e7_row1_col9\" class=\"data row1 col9\" >0</td>\n",
       "    </tr>\n",
       "    <tr>\n",
       "      <th id=\"T_b12e7_level0_row2\" class=\"row_heading level0 row2\" >2</th>\n",
       "      <td id=\"T_b12e7_row2_col0\" class=\"data row2 col0\" >14</td>\n",
       "      <td id=\"T_b12e7_row2_col1\" class=\"data row2 col1\" >10</td>\n",
       "      <td id=\"T_b12e7_row2_col2\" class=\"data row2 col2\" >956</td>\n",
       "      <td id=\"T_b12e7_row2_col3\" class=\"data row2 col3\" >3</td>\n",
       "      <td id=\"T_b12e7_row2_col4\" class=\"data row2 col4\" >4</td>\n",
       "      <td id=\"T_b12e7_row2_col5\" class=\"data row2 col5\" >3</td>\n",
       "      <td id=\"T_b12e7_row2_col6\" class=\"data row2 col6\" >7</td>\n",
       "      <td id=\"T_b12e7_row2_col7\" class=\"data row2 col7\" >21</td>\n",
       "      <td id=\"T_b12e7_row2_col8\" class=\"data row2 col8\" >14</td>\n",
       "      <td id=\"T_b12e7_row2_col9\" class=\"data row2 col9\" >0</td>\n",
       "    </tr>\n",
       "    <tr>\n",
       "      <th id=\"T_b12e7_level0_row3\" class=\"row_heading level0 row3\" >3</th>\n",
       "      <td id=\"T_b12e7_row3_col0\" class=\"data row3 col0\" >4</td>\n",
       "      <td id=\"T_b12e7_row3_col1\" class=\"data row3 col1\" >3</td>\n",
       "      <td id=\"T_b12e7_row3_col2\" class=\"data row3 col2\" >36</td>\n",
       "      <td id=\"T_b12e7_row3_col3\" class=\"data row3 col3\" >871</td>\n",
       "      <td id=\"T_b12e7_row3_col4\" class=\"data row3 col4\" >0</td>\n",
       "      <td id=\"T_b12e7_row3_col5\" class=\"data row3 col5\" >22</td>\n",
       "      <td id=\"T_b12e7_row3_col6\" class=\"data row3 col6\" >0</td>\n",
       "      <td id=\"T_b12e7_row3_col7\" class=\"data row3 col7\" >8</td>\n",
       "      <td id=\"T_b12e7_row3_col8\" class=\"data row3 col8\" >51</td>\n",
       "      <td id=\"T_b12e7_row3_col9\" class=\"data row3 col9\" >15</td>\n",
       "    </tr>\n",
       "    <tr>\n",
       "      <th id=\"T_b12e7_level0_row4\" class=\"row_heading level0 row4\" >4</th>\n",
       "      <td id=\"T_b12e7_row4_col0\" class=\"data row4 col0\" >1</td>\n",
       "      <td id=\"T_b12e7_row4_col1\" class=\"data row4 col1\" >0</td>\n",
       "      <td id=\"T_b12e7_row4_col2\" class=\"data row4 col2\" >9</td>\n",
       "      <td id=\"T_b12e7_row4_col3\" class=\"data row4 col3\" >0</td>\n",
       "      <td id=\"T_b12e7_row4_col4\" class=\"data row4 col4\" >870</td>\n",
       "      <td id=\"T_b12e7_row4_col5\" class=\"data row4 col5\" >0</td>\n",
       "      <td id=\"T_b12e7_row4_col6\" class=\"data row4 col6\" >28</td>\n",
       "      <td id=\"T_b12e7_row4_col7\" class=\"data row4 col7\" >8</td>\n",
       "      <td id=\"T_b12e7_row4_col8\" class=\"data row4 col8\" >9</td>\n",
       "      <td id=\"T_b12e7_row4_col9\" class=\"data row4 col9\" >57</td>\n",
       "    </tr>\n",
       "    <tr>\n",
       "      <th id=\"T_b12e7_level0_row5\" class=\"row_heading level0 row5\" >5</th>\n",
       "      <td id=\"T_b12e7_row5_col0\" class=\"data row5 col0\" >14</td>\n",
       "      <td id=\"T_b12e7_row5_col1\" class=\"data row5 col1\" >0</td>\n",
       "      <td id=\"T_b12e7_row5_col2\" class=\"data row5 col2\" >5</td>\n",
       "      <td id=\"T_b12e7_row5_col3\" class=\"data row5 col3\" >48</td>\n",
       "      <td id=\"T_b12e7_row5_col4\" class=\"data row5 col4\" >2</td>\n",
       "      <td id=\"T_b12e7_row5_col5\" class=\"data row5 col5\" >749</td>\n",
       "      <td id=\"T_b12e7_row5_col6\" class=\"data row5 col6\" >27</td>\n",
       "      <td id=\"T_b12e7_row5_col7\" class=\"data row5 col7\" >5</td>\n",
       "      <td id=\"T_b12e7_row5_col8\" class=\"data row5 col8\" >30</td>\n",
       "      <td id=\"T_b12e7_row5_col9\" class=\"data row5 col9\" >12</td>\n",
       "    </tr>\n",
       "    <tr>\n",
       "      <th id=\"T_b12e7_level0_row6\" class=\"row_heading level0 row6\" >6</th>\n",
       "      <td id=\"T_b12e7_row6_col0\" class=\"data row6 col0\" >28</td>\n",
       "      <td id=\"T_b12e7_row6_col1\" class=\"data row6 col1\" >1</td>\n",
       "      <td id=\"T_b12e7_row6_col2\" class=\"data row6 col2\" >30</td>\n",
       "      <td id=\"T_b12e7_row6_col3\" class=\"data row6 col3\" >0</td>\n",
       "      <td id=\"T_b12e7_row6_col4\" class=\"data row6 col4\" >6</td>\n",
       "      <td id=\"T_b12e7_row6_col5\" class=\"data row6 col5\" >12</td>\n",
       "      <td id=\"T_b12e7_row6_col6\" class=\"data row6 col6\" >877</td>\n",
       "      <td id=\"T_b12e7_row6_col7\" class=\"data row6 col7\" >1</td>\n",
       "      <td id=\"T_b12e7_row6_col8\" class=\"data row6 col8\" >3</td>\n",
       "      <td id=\"T_b12e7_row6_col9\" class=\"data row6 col9\" >0</td>\n",
       "    </tr>\n",
       "    <tr>\n",
       "      <th id=\"T_b12e7_level0_row7\" class=\"row_heading level0 row7\" >7</th>\n",
       "      <td id=\"T_b12e7_row7_col0\" class=\"data row7 col0\" >1</td>\n",
       "      <td id=\"T_b12e7_row7_col1\" class=\"data row7 col1\" >2</td>\n",
       "      <td id=\"T_b12e7_row7_col2\" class=\"data row7 col2\" >32</td>\n",
       "      <td id=\"T_b12e7_row7_col3\" class=\"data row7 col3\" >2</td>\n",
       "      <td id=\"T_b12e7_row7_col4\" class=\"data row7 col4\" >6</td>\n",
       "      <td id=\"T_b12e7_row7_col5\" class=\"data row7 col5\" >1</td>\n",
       "      <td id=\"T_b12e7_row7_col6\" class=\"data row7 col6\" >0</td>\n",
       "      <td id=\"T_b12e7_row7_col7\" class=\"data row7 col7\" >952</td>\n",
       "      <td id=\"T_b12e7_row7_col8\" class=\"data row7 col8\" >10</td>\n",
       "      <td id=\"T_b12e7_row7_col9\" class=\"data row7 col9\" >22</td>\n",
       "    </tr>\n",
       "    <tr>\n",
       "      <th id=\"T_b12e7_level0_row8\" class=\"row_heading level0 row8\" >8</th>\n",
       "      <td id=\"T_b12e7_row8_col0\" class=\"data row8 col0\" >8</td>\n",
       "      <td id=\"T_b12e7_row8_col1\" class=\"data row8 col1\" >5</td>\n",
       "      <td id=\"T_b12e7_row8_col2\" class=\"data row8 col2\" >34</td>\n",
       "      <td id=\"T_b12e7_row8_col3\" class=\"data row8 col3\" >15</td>\n",
       "      <td id=\"T_b12e7_row8_col4\" class=\"data row8 col4\" >7</td>\n",
       "      <td id=\"T_b12e7_row8_col5\" class=\"data row8 col5\" >30</td>\n",
       "      <td id=\"T_b12e7_row8_col6\" class=\"data row8 col6\" >20</td>\n",
       "      <td id=\"T_b12e7_row8_col7\" class=\"data row8 col7\" >14</td>\n",
       "      <td id=\"T_b12e7_row8_col8\" class=\"data row8 col8\" >837</td>\n",
       "      <td id=\"T_b12e7_row8_col9\" class=\"data row8 col9\" >4</td>\n",
       "    </tr>\n",
       "    <tr>\n",
       "      <th id=\"T_b12e7_level0_row9\" class=\"row_heading level0 row9\" >9</th>\n",
       "      <td id=\"T_b12e7_row9_col0\" class=\"data row9 col0\" >8</td>\n",
       "      <td id=\"T_b12e7_row9_col1\" class=\"data row9 col1\" >0</td>\n",
       "      <td id=\"T_b12e7_row9_col2\" class=\"data row9 col2\" >2</td>\n",
       "      <td id=\"T_b12e7_row9_col3\" class=\"data row9 col3\" >4</td>\n",
       "      <td id=\"T_b12e7_row9_col4\" class=\"data row9 col4\" >59</td>\n",
       "      <td id=\"T_b12e7_row9_col5\" class=\"data row9 col5\" >12</td>\n",
       "      <td id=\"T_b12e7_row9_col6\" class=\"data row9 col6\" >0</td>\n",
       "      <td id=\"T_b12e7_row9_col7\" class=\"data row9 col7\" >43</td>\n",
       "      <td id=\"T_b12e7_row9_col8\" class=\"data row9 col8\" >19</td>\n",
       "      <td id=\"T_b12e7_row9_col9\" class=\"data row9 col9\" >862</td>\n",
       "    </tr>\n",
       "  </tbody>\n",
       "</table>\n"
      ],
      "text/plain": [
       "<pandas.io.formats.style.Styler at 0x2decfe5f910>"
      ]
     },
     "execution_count": 40,
     "metadata": {},
     "output_type": "execute_result"
    }
   ],
   "source": [
    "def show_confusion_matrix(labels, classes):\n",
    "    cm = (pd.crosstab(pd.Series(labels, name= 'actual'),\n",
    "                    pd.Series(classes, name= 'predicted'))\n",
    "                .style.background_gradient('binary'))\n",
    "    return cm\n",
    "show_confusion_matrix(test_labels, test_classes_0)"
   ]
  },
  {
   "cell_type": "code",
   "execution_count": null,
   "metadata": {},
   "outputs": [],
   "source": []
  }
 ],
 "metadata": {
  "kernelspec": {
   "display_name": "base",
   "language": "python",
   "name": "python3"
  },
  "language_info": {
   "codemirror_mode": {
    "name": "ipython",
    "version": 3
   },
   "file_extension": ".py",
   "mimetype": "text/x-python",
   "name": "python",
   "nbconvert_exporter": "python",
   "pygments_lexer": "ipython3",
   "version": "3.9.7"
  },
  "orig_nbformat": 4
 },
 "nbformat": 4,
 "nbformat_minor": 2
}
